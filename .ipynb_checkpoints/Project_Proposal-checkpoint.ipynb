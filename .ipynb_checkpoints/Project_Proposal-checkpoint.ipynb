{
 "cells": [
  {
   "cell_type": "markdown",
   "metadata": {},
   "source": [
    "# DU Data Viz Project Proposal\n",
    "## Freedom and Happiness\n",
    "- Joe Grobelny jgrobelny81@gmail.com\n",
    "- Brian Hackett brianrhackett83@gmail.com\n",
    "- Shannon Wills shanwills@hotmail.com"
   ]
  },
  {
   "cell_type": "markdown",
   "metadata": {},
   "source": [
    "## Does Freedom Equal Happiness?\n",
    "We will compare and contrast a data set from the Human Freedom Index with a data set from the World Happiness Report, exploring the relationship between freedom and happiness. If we were benevolent world leaders, what would be the factors we could change that would have the most impact on overall happiness?"
   ]
  },
  {
   "cell_type": "markdown",
   "metadata": {},
   "source": [
    "## Git Repo URL\n",
    "You can find our git repo [right here!](https://github.com/Faedra/Joe_and_Shannon_project.git)"
   ]
  },
  {
   "cell_type": "markdown",
   "metadata": {},
   "source": [
    "## Research Quetion(s)\n",
    "- Compare the two datasets to look for trends and find the top countries based on combined happiness/freedom metrics. \n",
    "- Does personal freedom or economic freedom correlate more with happiness, or do they correlate equally? Is there a noticeable difference between the two?\n",
    "- Depending on which freedom correlates more, we will compare that freedom with the happiness index to determine which variable \"inside\" that freedom has the highest impact on happiness."
   ]
  },
  {
   "cell_type": "markdown",
   "metadata": {},
   "source": [
    "## Data Sets\n",
    "As of this writing, we are looking at the following datasets:\n",
    "\n",
    "The Happiness Index data is [here](https://s3.amazonaws.com/happiness-report/2019/Chapter2OnlineData.xls)\n",
    "\n",
    "The Human Freedom Project data is [here](https://object.cato.org/sites/cato.org/files/human-freedom-index-files/hfi2018web-revised3.xlsx)\n",
    "\n",
    "...and [here](https://www.kaggle.com/gsutters/the-human-freedom-index#hfi_cc_2018.csv)\n",
    "\n",
    "Index websites:\n",
    "- http://worldhappiness.report\n",
    "- https://www.cato.org/human-freedom-index-new"
   ]
  },
  {
   "cell_type": "markdown",
   "metadata": {},
   "source": [
    "## Task Breakdown\n",
    "- data grooming: cleaning and organize the data __Brian__\n",
    "- merge top-level happiness and freedom datasets __Shannon__\n",
    "- analyze and map happiness/freedom metrics by country __Shannon__\n",
    "- merge the happiness dataset with freedom sub-datasets __Joe__\n",
    "- analyze and map the results __Joe__\n",
    "- merge \"winning\" freedom with happiness index __Brian__\n",
    "- analyze and map combined data __Brian__\n",
    "- prep the presentation notebook __Shannon__\n",
    "- prep the project presentation __Joe__"
   ]
  },
  {
   "cell_type": "code",
   "execution_count": null,
   "metadata": {},
   "outputs": [],
   "source": []
  }
 ],
 "metadata": {
  "kernelspec": {
   "display_name": "Python 3",
   "language": "python",
   "name": "python3"
  },
  "language_info": {
   "codemirror_mode": {
    "name": "ipython",
    "version": 3
   },
   "file_extension": ".py",
   "mimetype": "text/x-python",
   "name": "python",
   "nbconvert_exporter": "python",
   "pygments_lexer": "ipython3",
   "version": "3.7.1"
  }
 },
 "nbformat": 4,
 "nbformat_minor": 2
}
