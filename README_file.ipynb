{
 "cells": [
  {
   "cell_type": "markdown",
   "metadata": {},
   "source": [
    "# DU Data Viz Project Proposal\n",
    "## Team Joe and Shannon\n",
    "- {Joe Grobelny} {team member email 1}\n",
    "- {Shannon Wills} {shanwills@hotmail.com}"
   ]
  },
  {
   "cell_type": "markdown",
   "metadata": {},
   "source": [
    "## Project Title\n",
    "{your project description: two or three plain English sentences}"
   ]
  },
  {
   "cell_type": "markdown",
   "metadata": {},
   "source": [
    "## Git Repo URL\n",
    "You can find our git repo [right here!](https://github.com/Faedra/Joe_and_Shannon_project.git)"
   ]
  },
  {
   "cell_type": "markdown",
   "metadata": {},
   "source": [
    "## Research Quetion(s)\n",
    "Summarize your question(s). Include relevant inspiration (i.e. links to articles)"
   ]
  },
  {
   "cell_type": "markdown",
   "metadata": {},
   "source": [
    "## Data Sets\n",
    "{list your datasets, give us links to the pages with the data in it, and maybe some snippets of code to get instructors excited about the project}\n",
    "- {dataset 1}\n",
    "- {dataset 1}"
   ]
  },
  {
   "cell_type": "markdown",
   "metadata": {},
   "source": [
    "## Task Breakdown\n",
    "- {try to sketch a plan of the separate pieces of work that need to be done} __Who__\n",
    "- {get data} __Who__\n",
    "- {analyze the data} __Who__\n",
    "- {get/analyze data 2} __Who__\n",
    "- {merge the data} __Who__\n",
    "- {analyze combined data} __Who__\n",
    "- {prep the presentation notebook} __Who__\n",
    "- {prep the project presentation}__Who__ "
   ]
  },
  {
   "cell_type": "code",
   "execution_count": null,
   "metadata": {},
   "outputs": [],
   "source": []
  }
 ],
 "metadata": {
  "kernelspec": {
   "display_name": "Python 3",
   "language": "python",
   "name": "python3"
  },
  "language_info": {
   "codemirror_mode": {
    "name": "ipython",
    "version": 3
   },
   "file_extension": ".py",
   "mimetype": "text/x-python",
   "name": "python",
   "nbconvert_exporter": "python",
   "pygments_lexer": "ipython3",
   "version": "3.7.1"
  }
 },
 "nbformat": 4,
 "nbformat_minor": 2
}
