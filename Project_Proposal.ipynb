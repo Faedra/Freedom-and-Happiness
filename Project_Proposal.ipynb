{
 "cells": [
  {
   "cell_type": "markdown",
   "metadata": {},
   "source": [
    "# DU Data Viz Project Proposal\n",
    "## Team Freedom\n",
    "- Joe Grobelny jgrobelny81@gmail.com\n",
    "- Brian Hackett brianrhackett83@gmail.com\n",
    "- Shannon Wills shanwills@hotmail.com"
   ]
  },
  {
   "cell_type": "markdown",
   "metadata": {},
   "source": [
    "## Does Freedom Equal Happiness?\n",
    "We will compare and contrast a data set from the Human Freedom Index with a data set from the World Happiness Report. Exploring how we quantify subjective qualities like freedom and happiness. "
   ]
  },
  {
   "cell_type": "markdown",
   "metadata": {},
   "source": [
    "## Git Repo URL\n",
    "You can find our git repo [right here!](https://github.com/Faedra/Joe_and_Shannon_project.git)"
   ]
  },
  {
   "cell_type": "markdown",
   "metadata": {},
   "source": [
    "## Research Quetion(s)\n",
    "- Does personal freedom or economic freedom correlate more with happiness, or do they correlate equally?\n",
    "- Both indexes have measures referring to democracy. We'd like to compare those measures and see how democratic freedom in the Human Freedom Project maps to democracy (and happiness) values in the Happiness Index.\n",
    "- Can we determine a relationship between two (or more) seemingly unrelated values in the two indexexes, say, between violent crime and social support?"
   ]
  },
  {
   "cell_type": "markdown",
   "metadata": {},
   "source": [
    "## Data Sets\n",
    "As of this writing, we are looking at the following datasets:\n",
    "\n",
    "The Happiness Index data is [here](https://s3.amazonaws.com/happiness-report/2019/Chapter2OnlineData.xls)\n",
    "\n",
    "The Human Freedom Project data is [here](https://object.cato.org/sites/cato.org/files/human-freedom-index-files/hfi2018web-revised3.xlsx)\n",
    "\n",
    "...and [here](https://www.kaggle.com/gsutters/the-human-freedom-index#hfi_cc_2018.csv)\n",
    "\n",
    "Index websites:\n",
    "- http://worldhappiness.report\n",
    "- https://www.cato.org/human-freedom-index-new"
   ]
  },
  {
   "cell_type": "markdown",
   "metadata": {},
   "source": [
    "## Task Breakdown\n",
    "- {try to sketch a plan of the separate pieces of work that need to be done} __Who__\n",
    "- {get data} __Who__\n",
    "- {analyze the data} __Who__\n",
    "- {get/analyze data 2} __Who__\n",
    "- {merge the data} __Who__\n",
    "- {analyze combined data} __Who__\n",
    "- {prep the presentation notebook} __Who__\n",
    "- {prep the project presentation}__Who__ "
   ]
  },
  {
   "cell_type": "code",
   "execution_count": null,
   "metadata": {},
   "outputs": [],
   "source": []
  }
 ],
 "metadata": {
  "kernelspec": {
   "display_name": "Python 3",
   "language": "python",
   "name": "python3"
  },
  "language_info": {
   "codemirror_mode": {
    "name": "ipython",
    "version": 3
   },
   "file_extension": ".py",
   "mimetype": "text/x-python",
   "name": "python",
   "nbconvert_exporter": "python",
   "pygments_lexer": "ipython3",
   "version": "3.7.1"
  }
 },
 "nbformat": 4,
 "nbformat_minor": 2
}
