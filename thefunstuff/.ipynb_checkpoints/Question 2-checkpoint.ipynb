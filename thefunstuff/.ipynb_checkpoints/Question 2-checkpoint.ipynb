{
 "cells": [
  {
   "cell_type": "code",
   "execution_count": 17,
   "metadata": {},
   "outputs": [
    {
     "data": {
      "text/html": [
       "<div>\n",
       "<style scoped>\n",
       "    .dataframe tbody tr th:only-of-type {\n",
       "        vertical-align: middle;\n",
       "    }\n",
       "\n",
       "    .dataframe tbody tr th {\n",
       "        vertical-align: top;\n",
       "    }\n",
       "\n",
       "    .dataframe thead th {\n",
       "        text-align: right;\n",
       "    }\n",
       "</style>\n",
       "<table border=\"1\" class=\"dataframe\">\n",
       "  <thead>\n",
       "    <tr style=\"text-align: right;\">\n",
       "      <th></th>\n",
       "      <th>Country</th>\n",
       "      <th>Personal Freedom</th>\n",
       "      <th>Economic Freedom</th>\n",
       "      <th>Happiness score</th>\n",
       "      <th>Human Freedom</th>\n",
       "    </tr>\n",
       "  </thead>\n",
       "  <tbody>\n",
       "    <tr>\n",
       "      <th>0</th>\n",
       "      <td>Netherlands</td>\n",
       "      <td>9.40</td>\n",
       "      <td>7.71</td>\n",
       "      <td>7.49</td>\n",
       "      <td>8.55</td>\n",
       "    </tr>\n",
       "    <tr>\n",
       "      <th>1</th>\n",
       "      <td>Norway</td>\n",
       "      <td>9.34</td>\n",
       "      <td>7.60</td>\n",
       "      <td>7.55</td>\n",
       "      <td>8.47</td>\n",
       "    </tr>\n",
       "    <tr>\n",
       "      <th>2</th>\n",
       "      <td>Sweden</td>\n",
       "      <td>9.33</td>\n",
       "      <td>7.44</td>\n",
       "      <td>7.34</td>\n",
       "      <td>8.39</td>\n",
       "    </tr>\n",
       "    <tr>\n",
       "      <th>3</th>\n",
       "      <td>Denmark</td>\n",
       "      <td>9.33</td>\n",
       "      <td>7.77</td>\n",
       "      <td>7.60</td>\n",
       "      <td>8.55</td>\n",
       "    </tr>\n",
       "    <tr>\n",
       "      <th>4</th>\n",
       "      <td>Finland</td>\n",
       "      <td>9.29</td>\n",
       "      <td>7.65</td>\n",
       "      <td>7.77</td>\n",
       "      <td>8.47</td>\n",
       "    </tr>\n",
       "  </tbody>\n",
       "</table>\n",
       "</div>"
      ],
      "text/plain": [
       "       Country  Personal Freedom  Economic Freedom  Happiness score  \\\n",
       "0  Netherlands              9.40              7.71             7.49   \n",
       "1       Norway              9.34              7.60             7.55   \n",
       "2       Sweden              9.33              7.44             7.34   \n",
       "3      Denmark              9.33              7.77             7.60   \n",
       "4      Finland              9.29              7.65             7.77   \n",
       "\n",
       "   Human Freedom  \n",
       "0           8.55  \n",
       "1           8.47  \n",
       "2           8.39  \n",
       "3           8.55  \n",
       "4           8.47  "
      ]
     },
     "execution_count": 17,
     "metadata": {},
     "output_type": "execute_result"
    }
   ],
   "source": [
    "%matplotlib inline \n",
    "import pandas as pd\n",
    "import matplotlib.pyplot as plt\n",
    "import numpy as np\n",
    "import seaborn as sns\n",
    "import scipy\n",
    "import statsmodels.api as sm\n",
    "\n",
    "\n",
    "freedom_data = 'starting_data/freedom.csv'\n",
    "happiness_data = 'starting_data/happiness.csv'\n",
    "kaggle_data = 'starting_data/kaggle.csv'\n",
    "\n",
    "freedom_df = pd.read_csv(freedom_data)\n",
    "happiness_df = pd.read_csv(happiness_data)\n",
    "\n",
    "kaggle_df = pd.read_csv(kaggle_data)\n",
    "kaggle_df = kaggle_df.loc[kaggle_df['year'] == 2016]\n",
    "kaggle_df = kaggle_df[[\"countries\",\"hf_score\"]]\n",
    "kaggle_df.columns = [\"Country\", \"Human Freedom\"]\n",
    "\n",
    "freedom_df.columns=[\"Country\", \"Personal Freedom\",\"Economic Freedom\"]\n",
    "\n",
    "freedom_and_happiness = pd.merge(freedom_df,happiness_df, on=\"Country\")\n",
    "freedom_and_happiness = pd.merge(freedom_and_happiness,kaggle_df, on=\"Country\")\n",
    "\n",
    "freedom_and_happiness[\"Happiness score\"] = round(freedom_and_happiness[\"Happiness score\"],2)\n",
    "freedom_and_happiness[\"Human Freedom\"] = round(freedom_and_happiness[\"Human Freedom\"],2)\n",
    "\n",
    "\n",
    "freedom_and_happiness.head()\n"
   ]
  },
  {
   "cell_type": "code",
   "execution_count": 18,
   "metadata": {},
   "outputs": [
    {
     "data": {
      "image/png": "[encoded data removed]",
      "text/plain": [
       "<Figure size 432x288 with 1 Axes>"
      ]
     },
     "metadata": {
      "needs_background": "light"
     },
     "output_type": "display_data"
    }
   ],
   "source": [
    "economic_freedom_and_happiness = sns.regplot (x=\"Economic Freedom\", y=\"Happiness score\", data= freedom_and_happiness)\n",
    "\n",
    "figure = economic_freedom_and_happiness.get_figure()    \n",
    "figure.savefig('economic_freedom_and_happiness.png', dpi=400)"
   ]
  },
  {
   "cell_type": "code",
   "execution_count": 19,
   "metadata": {},
   "outputs": [
    {
     "data": {
      "text/plain": [
       "Ttest_indResult(statistic=11.181184934123605, pvalue=7.366160171640477e-24)"
      ]
     },
     "execution_count": 19,
     "metadata": {},
     "output_type": "execute_result"
    }
   ],
   "source": [
    "economic_freedom = freedom_and_happiness[\"Economic Freedom\"]\n",
    "happiness_score = freedom_and_happiness[\"Happiness score\"]\n",
    "\n",
    "stats.ttest_ind(economic_freedom, happiness_score , equal_var=False)"
   ]
  },
  {
   "cell_type": "code",
   "execution_count": 20,
   "metadata": {},
   "outputs": [
    {
     "data": {
      "text/html": [
       "<table class=\"simpletable\">\n",
       "<caption>OLS Regression Results</caption>\n",
       "<tr>\n",
       "  <th>Dep. Variable:</th>    <td>Economic Freedom</td> <th>  R-squared:         </th> <td>   0.974</td> \n",
       "</tr>\n",
       "<tr>\n",
       "  <th>Model:</th>                   <td>OLS</td>       <th>  Adj. R-squared:    </th> <td>   0.974</td> \n",
       "</tr>\n",
       "<tr>\n",
       "  <th>Method:</th>             <td>Least Squares</td>  <th>  F-statistic:       </th> <td>   4998.</td> \n",
       "</tr>\n",
       "<tr>\n",
       "  <th>Date:</th>             <td>Sat, 13 Apr 2019</td> <th>  Prob (F-statistic):</th> <td>2.26e-107</td>\n",
       "</tr>\n",
       "<tr>\n",
       "  <th>Time:</th>                 <td>11:17:56</td>     <th>  Log-Likelihood:    </th> <td> -204.02</td> \n",
       "</tr>\n",
       "<tr>\n",
       "  <th>No. Observations:</th>      <td>   134</td>      <th>  AIC:               </th> <td>   410.0</td> \n",
       "</tr>\n",
       "<tr>\n",
       "  <th>Df Residuals:</th>          <td>   133</td>      <th>  BIC:               </th> <td>   412.9</td> \n",
       "</tr>\n",
       "<tr>\n",
       "  <th>Df Model:</th>              <td>     1</td>      <th>                     </th>     <td> </td>    \n",
       "</tr>\n",
       "<tr>\n",
       "  <th>Covariance Type:</th>      <td>nonrobust</td>    <th>                     </th>     <td> </td>    \n",
       "</tr>\n",
       "</table>\n",
       "<table class=\"simpletable\">\n",
       "<tr>\n",
       "         <td></td>            <th>coef</th>     <th>std err</th>      <th>t</th>      <th>P>|t|</th>  <th>[0.025</th>    <th>0.975]</th>  \n",
       "</tr>\n",
       "<tr>\n",
       "  <th>Happiness score</th> <td>    1.2170</td> <td>    0.017</td> <td>   70.695</td> <td> 0.000</td> <td>    1.183</td> <td>    1.251</td>\n",
       "</tr>\n",
       "</table>\n",
       "<table class=\"simpletable\">\n",
       "<tr>\n",
       "  <th>Omnibus:</th>       <td> 2.804</td> <th>  Durbin-Watson:     </th> <td>   1.597</td>\n",
       "</tr>\n",
       "<tr>\n",
       "  <th>Prob(Omnibus):</th> <td> 0.246</td> <th>  Jarque-Bera (JB):  </th> <td>   2.447</td>\n",
       "</tr>\n",
       "<tr>\n",
       "  <th>Skew:</th>          <td> 0.181</td> <th>  Prob(JB):          </th> <td>   0.294</td>\n",
       "</tr>\n",
       "<tr>\n",
       "  <th>Kurtosis:</th>      <td> 3.554</td> <th>  Cond. No.          </th> <td>    1.00</td>\n",
       "</tr>\n",
       "</table><br/><br/>Warnings:<br/>[1] Standard Errors assume that the covariance matrix of the errors is correctly specified."
      ],
      "text/plain": [
       "<class 'statsmodels.iolib.summary.Summary'>\n",
       "\"\"\"\n",
       "                            OLS Regression Results                            \n",
       "==============================================================================\n",
       "Dep. Variable:       Economic Freedom   R-squared:                       0.974\n",
       "Model:                            OLS   Adj. R-squared:                  0.974\n",
       "Method:                 Least Squares   F-statistic:                     4998.\n",
       "Date:                Sat, 13 Apr 2019   Prob (F-statistic):          2.26e-107\n",
       "Time:                        11:17:56   Log-Likelihood:                -204.02\n",
       "No. Observations:                 134   AIC:                             410.0\n",
       "Df Residuals:                     133   BIC:                             412.9\n",
       "Df Model:                           1                                         \n",
       "Covariance Type:            nonrobust                                         \n",
       "===================================================================================\n",
       "                      coef    std err          t      P>|t|      [0.025      0.975]\n",
       "-----------------------------------------------------------------------------------\n",
       "Happiness score     1.2170      0.017     70.695      0.000       1.183       1.251\n",
       "==============================================================================\n",
       "Omnibus:                        2.804   Durbin-Watson:                   1.597\n",
       "Prob(Omnibus):                  0.246   Jarque-Bera (JB):                2.447\n",
       "Skew:                           0.181   Prob(JB):                        0.294\n",
       "Kurtosis:                       3.554   Cond. No.                         1.00\n",
       "==============================================================================\n",
       "\n",
       "Warnings:\n",
       "[1] Standard Errors assume that the covariance matrix of the errors is correctly specified.\n",
       "\"\"\""
      ]
     },
     "execution_count": 20,
     "metadata": {},
     "output_type": "execute_result"
    }
   ],
   "source": [
    "df = pd.DataFrame(freedom_and_happiness, columns=[\"Happiness score\"])\n",
    "target = pd.DataFrame(freedom_and_happiness, columns=[\"Economic Freedom\"])\n",
    "\n",
    "X = df[\"Happiness score\"]\n",
    "y = target[\"Economic Freedom\"]\n",
    "\n",
    "model = sm.OLS(y, X).fit()\n",
    "predictions = model.predict(X)\n",
    "\n",
    "# Print out the statistics\n",
    "model.summary()"
   ]
  },
  {
   "cell_type": "code",
   "execution_count": 21,
   "metadata": {},
   "outputs": [
    {
     "data": {
      "text/plain": [
       "SpearmanrResult(correlation=0.6486199006279939, pvalue=2.3753806763046872e-17)"
      ]
     },
     "execution_count": 21,
     "metadata": {},
     "output_type": "execute_result"
    }
   ],
   "source": [
    "economic_freedom = freedom_and_happiness[\"Economic Freedom\"]\n",
    "happiness_score = freedom_and_happiness[\"Happiness score\"]\n",
    "\n",
    "stats.spearmanr(economic_freedom, happiness_score)"
   ]
  },
  {
   "cell_type": "code",
   "execution_count": 22,
   "metadata": {},
   "outputs": [
    {
     "data": {
      "text/plain": [
       "KendalltauResult(correlation=1.0, pvalue=1.8328223096566558e-65)"
      ]
     },
     "execution_count": 22,
     "metadata": {},
     "output_type": "execute_result"
    }
   ],
   "source": [
    "economic_freedom = freedom_and_happiness[\"Economic Freedom\"]\n",
    "happiness_score = freedom_and_happiness[\"Happiness score\"]\n",
    "\n",
    "stats.kendalltau(economic_freedom, economic_freedom)"
   ]
  },
  {
   "cell_type": "code",
   "execution_count": 23,
   "metadata": {},
   "outputs": [
    {
     "data": {
      "image/png": "[encoded data removed]",
      "text/plain": [
       "<Figure size 432x288 with 1 Axes>"
      ]
     },
     "metadata": {
      "needs_background": "light"
     },
     "output_type": "display_data"
    }
   ],
   "source": [
    "human_freedom_and_happiness = sns.regplot (x=\"Human Freedom\", y=\"Happiness score\", data= freedom_and_happiness)\n",
    "\n",
    "figure = human_freedom_and_happiness.get_figure()    \n",
    "figure.savefig('human_freedom_and_happiness.png', dpi=400)"
   ]
  },
  {
   "cell_type": "code",
   "execution_count": 24,
   "metadata": {},
   "outputs": [
    {
     "data": {
      "text/plain": [
       "Ttest_indResult(statistic=10.93475997764812, pvalue=3.1540410014623624e-23)"
      ]
     },
     "execution_count": 24,
     "metadata": {},
     "output_type": "execute_result"
    }
   ],
   "source": [
    "human_freedom = freedom_and_happiness[\"Human Freedom\"]\n",
    "happiness_score = freedom_and_happiness[\"Happiness score\"]\n",
    "\n",
    "stats.ttest_ind(human_freedom, happiness_score , equal_var=False)"
   ]
  },
  {
   "cell_type": "code",
   "execution_count": 25,
   "metadata": {},
   "outputs": [
    {
     "data": {
      "text/html": [
       "<table class=\"simpletable\">\n",
       "<caption>OLS Regression Results</caption>\n",
       "<tr>\n",
       "  <th>Dep. Variable:</th>    <td>Personal Freedom</td> <th>  R-squared:         </th> <td>   0.971</td> \n",
       "</tr>\n",
       "<tr>\n",
       "  <th>Model:</th>                   <td>OLS</td>       <th>  Adj. R-squared:    </th> <td>   0.970</td> \n",
       "</tr>\n",
       "<tr>\n",
       "  <th>Method:</th>             <td>Least Squares</td>  <th>  F-statistic:       </th> <td>   4408.</td> \n",
       "</tr>\n",
       "<tr>\n",
       "  <th>Date:</th>             <td>Sat, 13 Apr 2019</td> <th>  Prob (F-statistic):</th> <td>7.58e-104</td>\n",
       "</tr>\n",
       "<tr>\n",
       "  <th>Time:</th>                 <td>11:18:02</td>     <th>  Log-Likelihood:    </th> <td> -217.66</td> \n",
       "</tr>\n",
       "<tr>\n",
       "  <th>No. Observations:</th>      <td>   134</td>      <th>  AIC:               </th> <td>   437.3</td> \n",
       "</tr>\n",
       "<tr>\n",
       "  <th>Df Residuals:</th>          <td>   133</td>      <th>  BIC:               </th> <td>   440.2</td> \n",
       "</tr>\n",
       "<tr>\n",
       "  <th>Df Model:</th>              <td>     1</td>      <th>                     </th>     <td> </td>    \n",
       "</tr>\n",
       "<tr>\n",
       "  <th>Covariance Type:</th>      <td>nonrobust</td>    <th>                     </th>     <td> </td>    \n",
       "</tr>\n",
       "</table>\n",
       "<table class=\"simpletable\">\n",
       "<tr>\n",
       "         <td></td>            <th>coef</th>     <th>std err</th>      <th>t</th>      <th>P>|t|</th>  <th>[0.025</th>    <th>0.975]</th>  \n",
       "</tr>\n",
       "<tr>\n",
       "  <th>Happiness score</th> <td>    1.2655</td> <td>    0.019</td> <td>   66.394</td> <td> 0.000</td> <td>    1.228</td> <td>    1.303</td>\n",
       "</tr>\n",
       "</table>\n",
       "<table class=\"simpletable\">\n",
       "<tr>\n",
       "  <th>Omnibus:</th>       <td> 4.307</td> <th>  Durbin-Watson:     </th> <td>   1.319</td>\n",
       "</tr>\n",
       "<tr>\n",
       "  <th>Prob(Omnibus):</th> <td> 0.116</td> <th>  Jarque-Bera (JB):  </th> <td>   3.753</td>\n",
       "</tr>\n",
       "<tr>\n",
       "  <th>Skew:</th>          <td>-0.371</td> <th>  Prob(JB):          </th> <td>   0.153</td>\n",
       "</tr>\n",
       "<tr>\n",
       "  <th>Kurtosis:</th>      <td> 3.349</td> <th>  Cond. No.          </th> <td>    1.00</td>\n",
       "</tr>\n",
       "</table><br/><br/>Warnings:<br/>[1] Standard Errors assume that the covariance matrix of the errors is correctly specified."
      ],
      "text/plain": [
       "<class 'statsmodels.iolib.summary.Summary'>\n",
       "\"\"\"\n",
       "                            OLS Regression Results                            \n",
       "==============================================================================\n",
       "Dep. Variable:       Personal Freedom   R-squared:                       0.971\n",
       "Model:                            OLS   Adj. R-squared:                  0.970\n",
       "Method:                 Least Squares   F-statistic:                     4408.\n",
       "Date:                Sat, 13 Apr 2019   Prob (F-statistic):          7.58e-104\n",
       "Time:                        11:18:02   Log-Likelihood:                -217.66\n",
       "No. Observations:                 134   AIC:                             437.3\n",
       "Df Residuals:                     133   BIC:                             440.2\n",
       "Df Model:                           1                                         \n",
       "Covariance Type:            nonrobust                                         \n",
       "===================================================================================\n",
       "                      coef    std err          t      P>|t|      [0.025      0.975]\n",
       "-----------------------------------------------------------------------------------\n",
       "Happiness score     1.2655      0.019     66.394      0.000       1.228       1.303\n",
       "==============================================================================\n",
       "Omnibus:                        4.307   Durbin-Watson:                   1.319\n",
       "Prob(Omnibus):                  0.116   Jarque-Bera (JB):                3.753\n",
       "Skew:                          -0.371   Prob(JB):                        0.153\n",
       "Kurtosis:                       3.349   Cond. No.                         1.00\n",
       "==============================================================================\n",
       "\n",
       "Warnings:\n",
       "[1] Standard Errors assume that the covariance matrix of the errors is correctly specified.\n",
       "\"\"\""
      ]
     },
     "execution_count": 25,
     "metadata": {},
     "output_type": "execute_result"
    }
   ],
   "source": [
    "df = pd.DataFrame(freedom_and_happiness, columns=[\"Happiness score\"])\n",
    "target = pd.DataFrame(freedom_and_happiness, columns=[\"Personal Freedom\"])\n",
    "\n",
    "X = df[\"Happiness score\"]\n",
    "y = target[\"Personal Freedom\"]\n",
    "\n",
    "model = sm.OLS(y, X).fit()\n",
    "predictions = model.predict(X) \n",
    "\n",
    "model.summary()"
   ]
  },
  {
   "cell_type": "code",
   "execution_count": 26,
   "metadata": {},
   "outputs": [
    {
     "data": {
      "text/plain": [
       "SpearmanrResult(correlation=0.6680604424001263, pvalue=1.1693755078755356e-18)"
      ]
     },
     "execution_count": 26,
     "metadata": {},
     "output_type": "execute_result"
    }
   ],
   "source": [
    "human_freedom = freedom_and_happiness[\"Human Freedom\"]\n",
    "happiness_score = freedom_and_happiness[\"Happiness score\"]\n",
    "\n",
    "stats.spearmanr(human_freedom, happiness_score)"
   ]
  },
  {
   "cell_type": "code",
   "execution_count": 27,
   "metadata": {},
   "outputs": [
    {
     "data": {
      "text/plain": [
       "KendalltauResult(correlation=0.48493762163378806, pvalue=1.1956102874289799e-16)"
      ]
     },
     "execution_count": 27,
     "metadata": {},
     "output_type": "execute_result"
    }
   ],
   "source": [
    "human_freedom = freedom_and_happiness[\"Human Freedom\"]\n",
    "happiness_score = freedom_and_happiness[\"Happiness score\"]\n",
    "\n",
    "stats.kendalltau(human_freedom, happiness_score)"
   ]
  }
 ],
 "metadata": {
  "kernelspec": {
   "display_name": "Python 3",
   "language": "python",
   "name": "python3"
  },
  "language_info": {
   "codemirror_mode": {
    "name": "ipython",
    "version": 3
   },
   "file_extension": ".py",
   "mimetype": "text/x-python",
   "name": "python",
   "nbconvert_exporter": "python",
   "pygments_lexer": "ipython3",
   "version": "3.7.1"
  }
 },
 "nbformat": 4,
 "nbformat_minor": 2
}
