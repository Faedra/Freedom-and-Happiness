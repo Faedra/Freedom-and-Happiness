{
 "cells": [
  {
   "cell_type": "code",
   "execution_count": 2,
   "metadata": {},
   "outputs": [],
   "source": [
    "%matplotlib notebook\n",
    "import matplotlib.pyplot as plt\n",
    "import numpy as np"
   ]
  },
  {
   "cell_type": "code",
   "execution_count": 3,
   "metadata": {},
   "outputs": [
    {
     "data": {
      "text/html": [
       "<div>\n",
       "<style scoped>\n",
       "    .dataframe tbody tr th:only-of-type {\n",
       "        vertical-align: middle;\n",
       "    }\n",
       "\n",
       "    .dataframe tbody tr th {\n",
       "        vertical-align: top;\n",
       "    }\n",
       "\n",
       "    .dataframe thead th {\n",
       "        text-align: right;\n",
       "    }\n",
       "</style>\n",
       "<table border=\"1\" class=\"dataframe\">\n",
       "  <thead>\n",
       "    <tr style=\"text-align: right;\">\n",
       "      <th></th>\n",
       "      <th>Country</th>\n",
       "      <th>Personal Freedom</th>\n",
       "      <th>Economic Freedom</th>\n",
       "      <th>Happiness score</th>\n",
       "    </tr>\n",
       "  </thead>\n",
       "  <tbody>\n",
       "    <tr>\n",
       "      <th>0</th>\n",
       "      <td>Netherlands</td>\n",
       "      <td>9.40</td>\n",
       "      <td>7.71</td>\n",
       "      <td>7.49</td>\n",
       "    </tr>\n",
       "    <tr>\n",
       "      <th>1</th>\n",
       "      <td>Norway</td>\n",
       "      <td>9.34</td>\n",
       "      <td>7.60</td>\n",
       "      <td>7.55</td>\n",
       "    </tr>\n",
       "    <tr>\n",
       "      <th>2</th>\n",
       "      <td>Sweden</td>\n",
       "      <td>9.33</td>\n",
       "      <td>7.44</td>\n",
       "      <td>7.34</td>\n",
       "    </tr>\n",
       "    <tr>\n",
       "      <th>3</th>\n",
       "      <td>Denmark</td>\n",
       "      <td>9.33</td>\n",
       "      <td>7.77</td>\n",
       "      <td>7.60</td>\n",
       "    </tr>\n",
       "    <tr>\n",
       "      <th>4</th>\n",
       "      <td>Finland</td>\n",
       "      <td>9.29</td>\n",
       "      <td>7.65</td>\n",
       "      <td>7.77</td>\n",
       "    </tr>\n",
       "  </tbody>\n",
       "</table>\n",
       "</div>"
      ],
      "text/plain": [
       "       Country  Personal Freedom  Economic Freedom  Happiness score\n",
       "0  Netherlands              9.40              7.71             7.49\n",
       "1       Norway              9.34              7.60             7.55\n",
       "2       Sweden              9.33              7.44             7.34\n",
       "3      Denmark              9.33              7.77             7.60\n",
       "4      Finland              9.29              7.65             7.77"
      ]
     },
     "execution_count": 3,
     "metadata": {},
     "output_type": "execute_result"
    }
   ],
   "source": [
    "import pandas as pd\n",
    "\n",
    "freedom_data = 'starting_data/freedom.csv'\n",
    "happiness_data = 'starting_data/happiness.csv'\n",
    "kaggle_data = 'starting_data/kaggle.csv'\n",
    "\n",
    "freedom_df = pd.read_csv(freedom_data)\n",
    "happiness_df = pd.read_csv(happiness_data)\n",
    "\n",
    "kaggle_df = pd.read_csv(kaggle_data)\n",
    "kaggle_df = kaggle_df.loc[kaggle_df['year'] == 2016]\n",
    "kaggle_df = kaggle_df[[\"countries\",\"hf_score\"]]\n",
    "kaggle_df.columns = [\"Country\", \"Human Freedom\"]\n",
    "\n",
    "freedom_df.columns=[\"Country\", \"Personal Freedom\",\"Economic Freedom\"]\n",
    "\n",
    "freedom_and_happiness = pd.merge(freedom_df,happiness_df, on=\"Country\")\n",
    "freedom_and_happiness = pd.merge(freedom_and_happiness,kaggle_df, on=\"Country\")\n",
    "\n",
    "freedom_and_happiness[\"Happiness score\"] = round(freedom_and_happiness[\"Happiness score\"],2)\n",
    "freedom_and_happiness[\"Human Freedom\"] = round(freedom_and_happiness[\"Human Freedom\"],2)\n",
    "\n",
    "\n",
    "freedom_and_happiness.head()"
   ]
  },
  {
   "cell_type": "code",
   "execution_count": null,
   "metadata": {},
   "outputs": [],
   "source": [
    "plt.scatter"
   ]
  }
 ],
 "metadata": {
  "kernelspec": {
   "display_name": "Python 3",
   "language": "python",
   "name": "python3"
  },
  "language_info": {
   "codemirror_mode": {
    "name": "ipython",
    "version": 3
   },
   "file_extension": ".py",
   "mimetype": "text/x-python",
   "name": "python",
   "nbconvert_exporter": "python",
   "pygments_lexer": "ipython3",
   "version": "3.7.1"
  }
 },
 "nbformat": 4,
 "nbformat_minor": 2
}
